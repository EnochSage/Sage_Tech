{
 "cells": [
  {
   "cell_type": "markdown",
   "metadata": {},
   "source": [
    "# Employee Scheduling System"
   ]
  },
  {
   "cell_type": "code",
   "execution_count": 48,
   "metadata": {},
   "outputs": [
    {
     "name": "stderr",
     "output_type": "stream",
     "text": [
      "Downloading...\n",
      "From: https://drive.google.com/uc?id=15BPH7-3GGWBfXPJQ3stkT6SHQECbT-pt\n",
      "To: C:\\Users\\Lenovo\\shifts.csv\n",
      "100%|█████████████████████████████████████████████████| 298/298 [00:00<?, ?B/s]\n"
     ]
    }
   ],
   "source": [
    "import gdown\n",
    "import pandas as pd\n",
    "from pulp import *\n",
    "\n",
    "url = \"https://drive.google.com/uc?id=15BPH7-3GGWBfXPJQ3stkT6SHQECbT-pt\"\n",
    "output = \"shifts.csv\"\n",
    "gdown.download(url, output, quiet=False)\n",
    "\n",
    "df = pd.read_csv(\"shifts.csv\", index_col=0)"
   ]
  },
  {
   "cell_type": "code",
   "execution_count": 49,
   "metadata": {},
   "outputs": [
    {
     "data": {
      "text/plain": [
       "array([[1, 0, 0, 1],\n",
       "       [1, 0, 0, 0],\n",
       "       [1, 1, 0, 0],\n",
       "       [0, 1, 0, 0],\n",
       "       [0, 1, 1, 0],\n",
       "       [0, 0, 1, 0],\n",
       "       [0, 0, 1, 1],\n",
       "       [0, 0, 0, 1]], dtype=object)"
      ]
     },
     "execution_count": 49,
     "metadata": {},
     "output_type": "execute_result"
    }
   ],
   "source": [
    "df = df.fillna(0).applymap(lambda x: 1 if x == \"X\" else x)\n",
    "\n",
    "a = df.drop(index=[\"Wage rate per 9h shift ($)\"], columns=[\"Workers Required\"]).values\n",
    "a"
   ]
  },
  {
   "cell_type": "code",
   "execution_count": 50,
   "metadata": {},
   "outputs": [],
   "source": [
    "# number of shifts\n",
    "n = a.shape[1]\n",
    "\n",
    "# number of time windows\n",
    "T = a.shape[0]\n",
    "\n",
    "# number of workers required per time window\n",
    "d = df[\"Workers Required\"].values\n",
    "\n",
    "# wage rate per shift\n",
    "w = df.loc[\"Wage rate per 9h shift ($)\", :].values.astype(int)"
   ]
  },
  {
   "cell_type": "code",
   "execution_count": 51,
   "metadata": {},
   "outputs": [],
   "source": [
    "# Decision variables\n",
    "y = LpVariable.dicts(\"num_workers\", list(range(n)), lowBound=0, cat=\"Integer\")"
   ]
  },
  {
   "cell_type": "code",
   "execution_count": 52,
   "metadata": {},
   "outputs": [],
   "source": [
    "#Minimize the total cost of wages paid to all workers\n",
    "# Create problem\n",
    "prob = LpProblem(\"scheduling_workers\", LpMinimize)"
   ]
  },
  {
   "cell_type": "code",
   "execution_count": 53,
   "metadata": {},
   "outputs": [],
   "source": [
    "prob += lpSum([w[j] * y[j] for j in range(n)])\n",
    "for t in range(T):\n",
    "    prob += lpSum([a[t, j] * y[j] for j in range(n)]) >= d[t]"
   ]
  },
  {
   "cell_type": "code",
   "execution_count": 54,
   "metadata": {},
   "outputs": [
    {
     "name": "stdout",
     "output_type": "stream",
     "text": [
      "Status: Optimal\n"
     ]
    }
   ],
   "source": [
    "#Solve\n",
    "prob.solve()\n",
    "print(\"Status:\", LpStatus[prob.status])"
   ]
  },
  {
   "cell_type": "code",
   "execution_count": 55,
   "metadata": {},
   "outputs": [
    {
     "name": "stdout",
     "output_type": "stream",
     "text": [
      "The number of workers needed for shift 0 is 46 workers\n",
      "The number of workers needed for shift 1 is 23 workers\n",
      "The number of workers needed for shift 2 is 38 workers\n",
      "The number of workers needed for shift 3 is 30 workers\n"
     ]
    }
   ],
   "source": [
    "for shift in range(n):\n",
    "    print(\n",
    "        f\"The number of workers needed for shift {shift} is {int(y[shift].value())} workers\"\n",
    "    )"
   ]
  },
  {
   "cell_type": "code",
   "execution_count": null,
   "metadata": {},
   "outputs": [],
   "source": []
  },
  {
   "cell_type": "code",
   "execution_count": null,
   "metadata": {},
   "outputs": [],
   "source": []
  },
  {
   "cell_type": "code",
   "execution_count": null,
   "metadata": {},
   "outputs": [],
   "source": []
  }
 ],
 "metadata": {
  "kernelspec": {
   "display_name": "Python 3",
   "language": "python",
   "name": "python3"
  },
  "language_info": {
   "codemirror_mode": {
    "name": "ipython",
    "version": 3
   },
   "file_extension": ".py",
   "mimetype": "text/x-python",
   "name": "python",
   "nbconvert_exporter": "python",
   "pygments_lexer": "ipython3",
   "version": "3.8.5"
  }
 },
 "nbformat": 4,
 "nbformat_minor": 4
}
